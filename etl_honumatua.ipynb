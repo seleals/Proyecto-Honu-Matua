{
 "cells": [
  {
   "cell_type": "code",
   "execution_count": 8,
   "id": "67898c38",
   "metadata": {},
   "outputs": [],
   "source": [
    "import pandas as pd"
   ]
  },
  {
   "cell_type": "code",
   "execution_count": 9,
   "id": "49721ec3",
   "metadata": {},
   "outputs": [],
   "source": [
    "path = r\"C:\\Users\\sleal\\OneDrive\\Escritorio\\Escritorio\\MATERIAL UDEC\\SEMESTRE X\\TGO\\BBDD_HonuMatua.xlsx\""
   ]
  },
  {
   "cell_type": "code",
   "execution_count": 10,
   "id": "e2fc5c0e",
   "metadata": {},
   "outputs": [],
   "source": [
    "df = pd.read_excel(path)"
   ]
  },
  {
   "cell_type": "code",
   "execution_count": 12,
   "id": "ba3ad271",
   "metadata": {},
   "outputs": [
    {
     "name": "stdout",
     "output_type": "stream",
     "text": [
      "Nombres de las hojas en el archivo Excel:\n",
      "['Ingreso Mes Mayo', 'Hoja5', 'Hoja6', 'Hoja7', 'Hoja8', 'Hoja9', 'Ingreso Mes FEBRERO (2)', 'RETIROS', 'INGRESO OCTUBRE', 'Hoja13', 'INGRESO Septiembre', 'Hoja4', 'Hoja3', 'ENERO 2020', 'Hoja10', 'MARZO 2020', 'ABRIL 2020', 'MAYO 2020', 'JUNIO 2020', 'JULIO 2020', 'Hoja14', 'AGOSTO 2020', 'SEPTIEMBRE 2020', 'OCTUBRE 2020', 'NOVIEMBRE', 'Hoja11', 'DICIEMBRE 2020', 'ENERO 2021', 'FEBRERO', 'Hoja37', 'MARZO 2021', 'ABRIL 2021', 'MAYO 2021', 'JUNIO 2021', 'JULIO 2021', 'AGOSTO 2021', 'Hoja18', 'SEPTIEMBRE 2021 ', 'Hoja17', 'OCTUBRE 2021', 'NOVIEMBRE 21 ', 'DICIEMBRE 21', 'ENERO 22', 'FEBRERO 22', 'MARZO 22', 'ABRIL 22', 'MAYO 22 ', 'JUNIO 22', 'JULIO 22', 'Hoja15', 'Hoja21', 'Hoja22', 'Hoja23', 'Hoja24', 'Hoja25', 'Hoja26', 'Hoja27', 'Hoja28', 'Hoja29', 'Hoja30', 'Hoja31', 'Hoja32', 'Hoja33', 'Hoja34', 'AGOSTO 22', 'SEPTIEMBRE 22 ', 'OCTUBRE 22', 'NOVIEMBRE  22', 'DICIEMBRE 22 ', 'ENERO 23', 'FEBRERO 23 ', 'MARZO 23 ', 'ABRIL 23 ', 'MAYO 23', 'JUNIO 23', ' JULIO 23', 'CUSTODIA MENSUAL CAMION ', 'AGOSTO 23', 'SEPTIEMBRE 23 ', 'OCTUBRE 23', 'NOVIEMBRE  23', 'DICIEMBRE 23 ', 'LISTADO CLIENTES', 'PRECIO POR DIA', 'Hoja12', 'Hoja20', 'ENERO 2024', 'Hoja19', 'Macro1', 'Hoja16', 'Hoja2', 'Hoja1']\n",
      "Cantidad de hojas del excel: 92\n"
     ]
    }
   ],
   "source": [
    "# Obtiene la lista de nombres de las hojas\n",
    "nombres_hojas = pd.ExcelFile(path).sheet_names\n",
    "\n",
    "print(\"Nombres de las hojas en el archivo Excel:\")\n",
    "print(nombres_hojas)\n",
    "print(\"Cantidad de hojas del excel:\", len(nombres_hojas))"
   ]
  },
  {
   "cell_type": "code",
   "execution_count": 14,
   "id": "fe1bb804",
   "metadata": {},
   "outputs": [],
   "source": [
    "mantener_hojas = ['ENERO 23', 'FEBRERO 23 ', 'MARZO 23 ', 'ABRIL 23 ', 'MAYO 23', 'JUNIO 23', 'JULIO 23', 'AGOSTO 23', 'SEPTIEMBRE 23 ', 'OCTUBRE 23', 'NOVIEMBRE 23', 'DICIEMBRE 23 ']"
   ]
  },
  {
   "cell_type": "markdown",
   "id": "090bb52d",
   "metadata": {},
   "source": [
    "### Instrucciones"
   ]
  },
  {
   "cell_type": "markdown",
   "id": "5898eda2",
   "metadata": {},
   "source": [
    "Analisis de Datos del año 2023 \\\n",
    "Por cliente y tipo de contenedor \\\n",
    "Considerar solo contenedores de 40 pies \\\n",
    "Solo custodias \\\n",
    "Obtener tiempos de estadía promedio por cliente \\\n",
    "'Muestrame todos los  tiempos de estadia de X cliente' \\\n",
    "Hacer grafico de los top 10 clientes con mayor movimiento \\\n",
    "Que se puedan hacer graficos automaticos solo señalando el nombre del cliente \\"
   ]
  },
  {
   "cell_type": "code",
   "execution_count": null,
   "id": "f76dfc4a",
   "metadata": {},
   "outputs": [],
   "source": [
    "import pandas as pd\n",
    "\n",
    "# 1. Define tus variables\n",
    "\n",
    "path = r\"C:\\Users\\sleal\\OneDrive\\Escritorio\\Escritorio\\MATERIAL UDEC\\SEMESTRE X\\TGO\\BBDD_HonuMatua.xlsx\"\n",
    "\n",
    "archivo_destino = 'tu_archivo_limpio.xlsx'\n",
    "\n",
    "# 2. Esta es la lista que mencionaste\n",
    "hojas_que_quiero_mantener = ['ENERO 23', 'FEBRERO 23 ', 'MARZO 23 ', 'ABRIL 23 ', 'MAYO 23', 'JUNIO 23', ' JULIO 23', 'AGOSTO 23', 'SEPTIEMBRE 23 ', 'OCTUBRE 23', 'NOVIEMBRE  23', 'DICIEMBRE 23 ']\n",
    "# 3. Lee SOLO esas hojas del archivo original\n",
    "# Esto crea un diccionario, ej: {'HojaDeVentas': DataFrame, 'ReporteMensual': DataFrame, ...}\n",
    "try:\n",
    "    diccionario_dataframes = pd.read_excel(\n",
    "        path, \n",
    "        sheet_name=hojas_que_quiero_mantener\n",
    "    )\n",
    "\n",
    "    # 4. Escribe esos DataFrames en un NUEVO archivo Excel\n",
    "    with pd.ExcelWriter(archivo_destino, engine='openpyxl') as writer:\n",
    "        for nombre_hoja, df in diccionario_dataframes.items():\n",
    "            # Escribimos cada DataFrame en su propia hoja\n",
    "            # index=False es común para evitar guardar el índice de pandas en el Excel\n",
    "            df.to_excel(writer, sheet_name=nombre_hoja, index=False)\n",
    "\n",
    "    print(f\"¡Éxito! Se ha creado '{archivo_destino}' solo con las {len(hojas_que_quiero_mantener)} hojas seleccionadas.\")\n",
    "\n",
    "except FileNotFoundError:\n",
    "    print(f\"Error: No se encontró el archivo '{path}'\")\n",
    "except Exception as e:\n",
    "    print(f\"Ocurrió un error: {e}\")\n",
    "    print(\"Asegúrate de que los nombres en 'hojas_que_quiero_mantener' existan en el archivo Excel.\")"
   ]
  },
  {
   "cell_type": "code",
   "execution_count": 6,
   "id": "dde41d56",
   "metadata": {},
   "outputs": [],
   "source": [
    "import polars as pl\n",
    "from typing import List, Dict\n",
    "\n",
    "# Define la ruta de tu archivo Excel\n",
    "ruta_archivo = r\"C:\\Users\\sleal\\OneDrive\\Escritorio\\Escritorio\\MATERIAL UDEC\\SEMESTRE X\\TGO\\BBDD_HonuMatua.xlsx\"\n",
    "\n",
    "def verificar_columnas_hojas(\n",
    "    ruta_archivo: str, \n",
    "    nombres_hojas: List[str]\n",
    ") -> Dict[str, List[str]]:\n",
    "    \"\"\"\n",
    "    Lee dos o más hojas de un Excel y compara sus nombres de columna.\n",
    "    \n",
    "    Retorna un diccionario donde la clave es el nombre de la hoja y el valor\n",
    "    es una lista con los nombres de sus columnas.\n",
    "    \"\"\"\n",
    "    columnas_por_hoja = {}\n",
    "    \n",
    "    # 1. Leer cada hoja en un DataFrame y guardar sus columnas\n",
    "    for nombre in nombres_hojas:\n",
    "        # Usamos read_excel para cargar solo la hoja de interés\n",
    "        df = pl.read_excel(\n",
    "            source=ruta_archivo,\n",
    "            sheet_name=nombre\n",
    "        )\n",
    "        # El atributo .columns retorna una lista de los nombres de columna\n",
    "        columnas_por_hoja[nombre] = df.columns\n",
    "    \n",
    "    # 2. Comparación Lógica\n",
    "    \n",
    "    # Tomamos la primera hoja como referencia\n",
    "    hoja_referencia = nombres_hojas[0]\n",
    "    columnas_referencia = set(columnas_por_hoja[hoja_referencia])\n",
    "    \n",
    "    print(f\"--- Columnas de la hoja de referencia ('{hoja_referencia}') ---\")\n",
    "    print(columnas_referencia)\n",
    "    print(\"----------------------------------------------------------\")\n",
    "\n",
    "    todas_iguales = True\n",
    "    \n",
    "    # Comparamos el resto de las hojas con la referencia\n",
    "    for nombre in nombres_hojas[1:]:\n",
    "        columnas_actuales = set(columnas_por_hoja[nombre])\n",
    "        \n",
    "        if columnas_referencia == columnas_actuales:\n",
    "            print(f\" La hoja '{nombre}' tiene las MISMAS columnas que '{hoja_referencia}'.\")\n",
    "        else:\n",
    "            todas_iguales = False\n",
    "            # Encuentra las diferencias\n",
    "            faltan_en_actual = columnas_referencia.difference(columnas_actuales)\n",
    "            sobran_en_actual = columnas_actuales.difference(columnas_referencia)\n",
    "            \n",
    "            print(f\" La hoja '{nombre}' tiene columnas DIFERENTES a '{hoja_referencia}'.\")\n",
    "            if faltan_en_actual:\n",
    "                print(f\"   -> Faltan: {faltan_en_actual}\")\n",
    "            if sobran_en_actual:\n",
    "                print(f\"   -> Sobran: {sobran_en_actual}\")\n",
    "\n",
    "    if todas_iguales:\n",
    "        print(\"\\n Todas las hojas comparadas tienen conjuntos de columnas idénticos.\")\n",
    "    else:\n",
    "        print(\"\\n Se encontraron diferencias en los nombres de las columnas.\")\n",
    "        \n",
    "    return columnas_por_hoja"
   ]
  },
  {
   "cell_type": "code",
   "execution_count": 7,
   "id": "b4372be7",
   "metadata": {},
   "outputs": [
    {
     "name": "stderr",
     "output_type": "stream",
     "text": [
      "Could not determine dtype for column 29, falling back to string\n"
     ]
    },
    {
     "name": "stdout",
     "output_type": "stream",
     "text": [
      "--- Columnas de la hoja de referencia ('ENERO 23') ---\n",
      "{'__UNNAMED__31', 'Valor ', 'TELEFONO', 'CORTINA', 'UBICACIÓN', 'GUIA', 'Gate Out ', 'Tipo carga', 'PATENTE', 'CLIENTE', '__UNNAMED__30', 'Valor final', 'Observacion ', 'FECHA', 'FECHA INGRESO', 'CONDUCTOR', 'Rut ', 'FILTO', 'PATENTE_1', 'N° Sellos', 'N° CLIENTE', 'Transportista', 'Estado ', 'N° INGRESO', 'HORA', 'No CONTENEDO', 'ESTADO', 'TELEFONO_1', 'HORA_1', 'Rut', 'Rut_1', '__UNNAMED__29'}\n",
      "----------------------------------------------------------\n",
      " La hoja 'FEBRERO 23 ' tiene columnas DIFERENTES a 'ENERO 23'.\n",
      "   -> Faltan: {'__UNNAMED__31', '__UNNAMED__29', 'Rut ', '__UNNAMED__30', 'Estado ', 'FECHA'}\n",
      "   -> Sobran: {'FECHA RETIRO ', 'ESTADO_1', 'RUT'}\n",
      " La hoja 'MARZO 23 ' tiene columnas DIFERENTES a 'ENERO 23'.\n",
      "   -> Faltan: {'__UNNAMED__31', '__UNNAMED__29', 'Rut ', '__UNNAMED__30', 'Estado ', 'FECHA'}\n",
      "   -> Sobran: {'FECHA RETIRO ', 'ESTADO_1', 'RUT'}\n",
      " La hoja 'ABRIL 23 ' tiene columnas DIFERENTES a 'ENERO 23'.\n",
      "   -> Faltan: {'__UNNAMED__31', 'Rut ', '__UNNAMED__30', 'Estado ', 'FECHA'}\n",
      "   -> Sobran: {'FECHA RETIRO ', 'ESTADO_1', 'RUT'}\n",
      " La hoja 'MAYO 23' tiene columnas DIFERENTES a 'ENERO 23'.\n",
      "   -> Faltan: {'__UNNAMED__31', '__UNNAMED__29', 'Rut ', 'No CONTENEDO', '__UNNAMED__30', 'Estado ', 'FECHA'}\n",
      "   -> Sobran: {'FECHA RETIRO ', 'No CONTENEDOR', 'ESTADO_1', 'RUT'}\n",
      " La hoja 'JUNIO 23' tiene columnas DIFERENTES a 'ENERO 23'.\n",
      "   -> Faltan: {'__UNNAMED__31', '__UNNAMED__29', 'Rut ', 'No CONTENEDO', '__UNNAMED__30', 'Estado ', 'FECHA'}\n",
      "   -> Sobran: {'FECHA RETIRO ', 'No CONTENEDOR', 'ESTADO_1', 'RUT'}\n",
      "\n",
      " Se encontraron diferencias en los nombres de las columnas.\n"
     ]
    }
   ],
   "source": [
    "# EJEMPLO: Reemplaza con los nombres reales de tus hojas\n",
    "hojas_a_comparar = ['ENERO 23', 'FEBRERO 23 ', 'MARZO 23 ', 'ABRIL 23 ', 'MAYO 23', 'JUNIO 23'] \n",
    "\n",
    "# Llamar a la función\n",
    "nombres_y_columnas = verificar_columnas_hojas(ruta_archivo, hojas_a_comparar)"
   ]
  }
 ],
 "metadata": {
  "kernelspec": {
   "display_name": "Python 3",
   "language": "python",
   "name": "python3"
  },
  "language_info": {
   "codemirror_mode": {
    "name": "ipython",
    "version": 3
   },
   "file_extension": ".py",
   "mimetype": "text/x-python",
   "name": "python",
   "nbconvert_exporter": "python",
   "pygments_lexer": "ipython3",
   "version": "3.13.5"
  }
 },
 "nbformat": 4,
 "nbformat_minor": 5
}
