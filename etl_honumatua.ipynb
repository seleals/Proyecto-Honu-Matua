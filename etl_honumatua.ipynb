{
 "cells": [
  {
   "cell_type": "code",
   "execution_count": 1,
   "id": "67898c38",
   "metadata": {},
   "outputs": [],
   "source": [
    "import polars as pl"
   ]
  },
  {
   "cell_type": "code",
   "execution_count": 2,
   "id": "49721ec3",
   "metadata": {},
   "outputs": [],
   "source": [
    "path = r\"C:\\Users\\sleal\\OneDrive\\Escritorio\\Escritorio\\MATERIAL UDEC\\SEMESTRE X\\TGO\\BBDD_HonuMatua.xlsx\""
   ]
  },
  {
   "cell_type": "code",
   "execution_count": 3,
   "id": "e2fc5c0e",
   "metadata": {},
   "outputs": [
    {
     "name": "stderr",
     "output_type": "stream",
     "text": [
      "Could not determine dtype for column 27, falling back to string\n",
      "Could not determine dtype for column 28, falling back to string\n",
      "Could not determine dtype for column 29, falling back to string\n",
      "Could not determine dtype for column 30, falling back to string\n",
      "Could not determine dtype for column 31, falling back to string\n",
      "Could not determine dtype for column 32, falling back to string\n"
     ]
    }
   ],
   "source": [
    "df = pl.read_excel(path)"
   ]
  },
  {
   "cell_type": "code",
   "execution_count": 4,
   "id": "ba3ad271",
   "metadata": {},
   "outputs": [
    {
     "name": "stdout",
     "output_type": "stream",
     "text": [
      "Nombres de las hojas en el archivo Excel:\n",
      "['Ingreso Mes Mayo', 'Hoja5', 'Hoja6', 'Hoja7', 'Hoja8', 'Hoja9', 'Ingreso Mes FEBRERO (2)', 'RETIROS', 'INGRESO OCTUBRE', 'Hoja13', 'INGRESO Septiembre', 'Hoja4', 'Hoja3', 'ENERO 2020', 'Hoja10', 'MARZO 2020', 'ABRIL 2020', 'MAYO 2020', 'Gráfico1', 'Gráfico2', 'Gráfico3', 'Gráfico4', 'JUNIO 2020', 'JULIO 2020', 'Hoja14', 'AGOSTO 2020', 'Gráfico5', 'Gráfico6', 'Gráfico7', 'Gráfico8', 'SEPTIEMBRE 2020', 'OCTUBRE 2020', 'NOVIEMBRE', 'Hoja11', 'Gráfico10', 'Gráfico11', 'DICIEMBRE 2020', 'ENERO 2021', 'FEBRERO', 'Hoja37', 'MARZO 2021', 'ABRIL 2021', 'MAYO 2021', 'JUNIO 2021', 'JULIO 2021', 'AGOSTO 2021', 'Hoja18', 'SEPTIEMBRE 2021 ', 'Hoja17', 'OCTUBRE 2021', 'NOVIEMBRE 21 ', 'DICIEMBRE 21', 'ENERO 22', 'FEBRERO 22', 'MARZO 22', 'ABRIL 22', 'MAYO 22 ', 'JUNIO 22', 'JULIO 22', 'Hoja15', 'Hoja21', 'Hoja22', 'Hoja23', 'Hoja24', 'Hoja25', 'Hoja26', 'Hoja27', 'Hoja28', 'Hoja29', 'Hoja30', 'Hoja31', 'Hoja32', 'Hoja33', 'Hoja34', 'AGOSTO 22', 'SEPTIEMBRE 22 ', 'OCTUBRE 22', 'NOVIEMBRE  22', 'DICIEMBRE 22 ', 'ENERO 23', 'FEBRERO 23 ', 'MARZO 23 ', 'ABRIL 23 ', 'MAYO 23', 'JUNIO 23', ' JULIO 23', 'CUSTODIA MENSUAL CAMION ', 'AGOSTO 23', 'SEPTIEMBRE 23 ', 'OCTUBRE 23', 'NOVIEMBRE  23', 'DICIEMBRE 23 ', 'LISTADO CLIENTES', 'PRECIO POR DIA', 'Hoja12', 'Hoja20', 'ENERO 2024', 'Gráfico13', 'Gráfico12', 'Hoja19', 'Macro1', 'Hoja16', 'Hoja2', 'Hoja1']\n"
     ]
    }
   ],
   "source": [
    "import openpyxl\n",
    "\n",
    "# Define la ruta de tu archivo Excel\n",
    "ruta_archivo = r\"C:\\Users\\sleal\\OneDrive\\Escritorio\\Escritorio\\MATERIAL UDEC\\SEMESTRE X\\TGO\\BBDD_HonuMatua.xlsx\"\n",
    "\n",
    "# Carga el libro de trabajo (workbook) sin cargar los datos\n",
    "libro_trabajo = openpyxl.load_workbook(ruta_archivo, read_only=True)\n",
    "\n",
    "# Obtiene la lista de nombres de las hojas\n",
    "nombres_hojas = libro_trabajo.sheetnames\n",
    "\n",
    "print(\"Nombres de las hojas en el archivo Excel:\")\n",
    "print(nombres_hojas)"
   ]
  },
  {
   "cell_type": "markdown",
   "id": "090bb52d",
   "metadata": {},
   "source": [
    "### Instrucciones"
   ]
  },
  {
   "cell_type": "markdown",
   "id": "5898eda2",
   "metadata": {},
   "source": [
    "Analisis de Datos del año 2023 \\\n",
    "Por cliente y tipo de contenedor \\\n",
    "Considerar solo contenedores de 40 pies \\\n",
    "Solo custodias \\\n",
    "Obtener tiempos de estadía promedio por cliente \\\n",
    "'Muestrame todos los  tiempos de estadia de X cliente' \\\n",
    "Hacer grafico de los top 10 clientes con mayor movimiento \\\n",
    "Que se puedan hacer graficos automaticos solo señalando el nombre del cliente \\"
   ]
  },
  {
   "cell_type": "code",
   "execution_count": 5,
   "id": "f76dfc4a",
   "metadata": {},
   "outputs": [
    {
     "data": {
      "text/html": [
       "<div><style>\n",
       ".dataframe > thead > tr,\n",
       ".dataframe > tbody > tr {\n",
       "  text-align: right;\n",
       "  white-space: pre-wrap;\n",
       "}\n",
       "</style>\n",
       "<small>shape: (847, 32)</small><table border=\"1\" class=\"dataframe\"><thead><tr><th>N° Ingreso </th><th>CLIENTE</th><th>Rut </th><th>CONDUCTOR</th><th>Rut</th><th>Patente </th><th>Fono</th><th>Fecha ingreso </th><th>Hora </th><th>Tipo carga</th><th>N° Contenedor</th><th>N° Guia</th><th>N° Sellos</th><th>Valor </th><th>Estado</th><th>__UNNAMED__15</th><th>Gate Out </th><th>FECHA</th><th>Hora _1</th><th>Transportista</th><th>Rut_1</th><th>Patente</th><th>Fono_1</th><th>Valor final</th><th>Estado </th><th>Observacion </th><th>__UNNAMED__26</th><th>__UNNAMED__27</th><th>__UNNAMED__28</th><th>__UNNAMED__29</th><th>__UNNAMED__31</th><th>__UNNAMED__32</th></tr><tr><td>i64</td><td>str</td><td>str</td><td>str</td><td>str</td><td>str</td><td>i64</td><td>date</td><td>datetime[ms]</td><td>str</td><td>str</td><td>str</td><td>str</td><td>str</td><td>str</td><td>str</td><td>str</td><td>datetime[ms]</td><td>str</td><td>str</td><td>str</td><td>str</td><td>i64</td><td>str</td><td>str</td><td>str</td><td>str</td><td>str</td><td>str</td><td>str</td><td>str</td><td>str</td></tr></thead><tbody><tr><td>51</td><td>&quot;JAVIER VILLAVICENCIO&quot;</td><td>&quot;76307585-0&quot;</td><td>&quot;JUAN ZAMORA&quot;</td><td>&quot;15753213-8&quot;</td><td>&quot;VH6738&quot;</td><td>978547050</td><td>2018-10-11</td><td>null</td><td>&quot;2 ROLLOS DEL DESCONSOLIDADO SC…</td><td>null</td><td>null</td><td>null</td><td>&quot;1000&quot;</td><td>&quot;PENDIENTE&quot;</td><td>null</td><td>null</td><td>null</td><td>null</td><td>null</td><td>null</td><td>null</td><td>null</td><td>null</td><td>&quot;PENDIENTE&quot;</td><td>&quot;PENDIENTE&quot;</td><td>null</td><td>null</td><td>null</td><td>null</td><td>null</td><td>null</td></tr><tr><td>424</td><td>&quot;ADOLFO CHAPARRO&quot;</td><td>&quot;16332950-6&quot;</td><td>&quot;ADOLFO CHAPARRO&quot;</td><td>&quot;16332950-6&quot;</td><td>&quot;PL2135&quot;</td><td>961917194</td><td>2019-02-08</td><td>1899-12-31 14:42:00</td><td>&quot;CUSTODIA MENSUAL&quot;</td><td>&quot;RAMPA CONTENEDOR VACIA&quot;</td><td>&quot;JA6873&quot;</td><td>null</td><td>&quot;70000&quot;</td><td>&quot;PENDIENTE&quot;</td><td>null</td><td>null</td><td>null</td><td>null</td><td>null</td><td>null</td><td>null</td><td>null</td><td>null</td><td>null</td><td>&quot;DEBE MARZO Y ABRIL &quot;</td><td>null</td><td>null</td><td>null</td><td>null</td><td>null</td><td>null</td></tr><tr><td>736</td><td>&quot;TRANS. ARACENA&quot;</td><td>&quot;13.228.652-3&quot;</td><td>&quot;GUILLERMO MUÑOZ&quot;</td><td>&quot;7.091.030-6&quot;</td><td>&quot;XY4127&quot;</td><td>973506668</td><td>2019-02-02</td><td>1899-12-31 11:07:00</td><td>&quot;1X40RF&quot;</td><td>&quot;MNBU307823-8&quot;</td><td>null</td><td>&quot;H6222929&quot;</td><td>&quot;10000&quot;</td><td>&quot;PENDIENTE&quot;</td><td>null</td><td>&quot;JS&quot;</td><td>null</td><td>null</td><td>null</td><td>null</td><td>null</td><td>null</td><td>null</td><td>null</td><td>null</td><td>null</td><td>null</td><td>null</td><td>null</td><td>null</td><td>null</td></tr><tr><td>738</td><td>&quot;COMERCIAL DEL CAMPO&quot;</td><td>&quot;96918290&quot;</td><td>&quot;JUAN VILCHES&quot;</td><td>&quot;10.968.312-4&quot;</td><td>&quot;CGJC22&quot;</td><td>990201156</td><td>2019-02-02</td><td>1899-12-31 11:44:00</td><td>&quot;2 PALLETS&quot;</td><td>null</td><td>&quot;157&quot;</td><td>null</td><td>&quot;6000&quot;</td><td>&quot;PENDIENTE&quot;</td><td>null</td><td>&quot;JS&quot;</td><td>null</td><td>null</td><td>null</td><td>null</td><td>null</td><td>null</td><td>&quot;6000&quot;</td><td>&quot;CANCELADO&quot;</td><td>&quot;BOLETA 957&quot;</td><td>null</td><td>null</td><td>null</td><td>null</td><td>null</td><td>null</td></tr><tr><td>905</td><td>&quot;GEnesis INGENIERIA&quot;</td><td>null</td><td>&quot;LUIS LOBOS&quot;</td><td>&quot;9.860.301-8&quot;</td><td>&quot;VR 18 78&quot;</td><td>996380232</td><td>2019-03-12</td><td>1899-12-31 19:20:00</td><td>&quot;PALLETS&quot;</td><td>&quot;4 PALLETS&quot;</td><td>&quot;13590&quot;</td><td>null</td><td>&quot;16000&quot;</td><td>&quot;PENDIENTE&quot;</td><td>&quot;2 SOBREDIMENSIONADOS Y 2 NORMA…</td><td>&quot;BM-AP&quot;</td><td>2019-05-06 00:00:00</td><td>&quot;1899-12-31 11:30:00&quot;</td><td>&quot;LUIS LOBOS&quot;</td><td>&quot;9.860.301-8&quot;</td><td>&quot;VR 18 78&quot;</td><td>996380232</td><td>&quot;55930&quot;</td><td>&quot;PAGADO &quot;</td><td>&quot;C/IVA EN EFECT $2.380 BCI $53.…</td><td>null</td><td>null</td><td>null</td><td>null</td><td>null</td><td>null</td></tr><tr><td>&hellip;</td><td>&hellip;</td><td>&hellip;</td><td>&hellip;</td><td>&hellip;</td><td>&hellip;</td><td>&hellip;</td><td>&hellip;</td><td>&hellip;</td><td>&hellip;</td><td>&hellip;</td><td>&hellip;</td><td>&hellip;</td><td>&hellip;</td><td>&hellip;</td><td>&hellip;</td><td>&hellip;</td><td>&hellip;</td><td>&hellip;</td><td>&hellip;</td><td>&hellip;</td><td>&hellip;</td><td>&hellip;</td><td>&hellip;</td><td>&hellip;</td><td>&hellip;</td><td>&hellip;</td><td>&hellip;</td><td>&hellip;</td><td>&hellip;</td><td>&hellip;</td><td>&hellip;</td></tr><tr><td>2639</td><td>null</td><td>null</td><td>null</td><td>null</td><td>null</td><td>null</td><td>null</td><td>null</td><td>null</td><td>null</td><td>null</td><td>null</td><td>null</td><td>null</td><td>null</td><td>null</td><td>null</td><td>null</td><td>null</td><td>null</td><td>null</td><td>null</td><td>null</td><td>null</td><td>null</td><td>null</td><td>null</td><td>null</td><td>null</td><td>null</td><td>null</td></tr><tr><td>2640</td><td>null</td><td>null</td><td>null</td><td>null</td><td>null</td><td>null</td><td>null</td><td>null</td><td>null</td><td>null</td><td>null</td><td>null</td><td>null</td><td>null</td><td>null</td><td>null</td><td>null</td><td>null</td><td>null</td><td>null</td><td>null</td><td>null</td><td>null</td><td>null</td><td>null</td><td>null</td><td>null</td><td>null</td><td>null</td><td>null</td><td>null</td></tr><tr><td>2641</td><td>null</td><td>null</td><td>null</td><td>null</td><td>null</td><td>null</td><td>null</td><td>null</td><td>null</td><td>null</td><td>null</td><td>null</td><td>null</td><td>null</td><td>null</td><td>null</td><td>null</td><td>null</td><td>null</td><td>null</td><td>null</td><td>null</td><td>null</td><td>null</td><td>null</td><td>null</td><td>null</td><td>null</td><td>null</td><td>null</td><td>null</td></tr><tr><td>2642</td><td>null</td><td>null</td><td>null</td><td>null</td><td>null</td><td>null</td><td>null</td><td>null</td><td>null</td><td>null</td><td>&quot;150709&quot;</td><td>null</td><td>null</td><td>null</td><td>null</td><td>null</td><td>null</td><td>null</td><td>null</td><td>null</td><td>null</td><td>null</td><td>null</td><td>null</td><td>null</td><td>null</td><td>null</td><td>null</td><td>null</td><td>null</td><td>null</td></tr><tr><td>null</td><td>&quot;CORTE&nbsp;&nbsp;MAYO&quot;</td><td>null</td><td>null</td><td>null</td><td>null</td><td>null</td><td>null</td><td>null</td><td>null</td><td>null</td><td>null</td><td>null</td><td>null</td><td>null</td><td>null</td><td>null</td><td>null</td><td>null</td><td>null</td><td>null</td><td>null</td><td>null</td><td>null</td><td>null</td><td>null</td><td>null</td><td>null</td><td>null</td><td>null</td><td>null</td><td>null</td></tr></tbody></table></div>"
      ],
      "text/plain": [
       "shape: (847, 32)\n",
       "┌───────────┬───────────┬───────────┬───────────┬───┬───────────┬───────────┬───────────┬──────────┐\n",
       "│ N°        ┆ CLIENTE   ┆ Rut       ┆ CONDUCTOR ┆ … ┆ __UNNAMED ┆ __UNNAMED ┆ __UNNAMED ┆ __UNNAME │\n",
       "│ Ingreso   ┆ ---       ┆ ---       ┆ ---       ┆   ┆ __28      ┆ __29      ┆ __31      ┆ D__32    │\n",
       "│ ---       ┆ str       ┆ str       ┆ str       ┆   ┆ ---       ┆ ---       ┆ ---       ┆ ---      │\n",
       "│ i64       ┆           ┆           ┆           ┆   ┆ str       ┆ str       ┆ str       ┆ str      │\n",
       "╞═══════════╪═══════════╪═══════════╪═══════════╪═══╪═══════════╪═══════════╪═══════════╪══════════╡\n",
       "│ 51        ┆ JAVIER    ┆ 76307585- ┆ JUAN      ┆ … ┆ null      ┆ null      ┆ null      ┆ null     │\n",
       "│           ┆ VILLAVICE ┆ 0         ┆ ZAMORA    ┆   ┆           ┆           ┆           ┆          │\n",
       "│           ┆ NCIO      ┆           ┆           ┆   ┆           ┆           ┆           ┆          │\n",
       "│ 424       ┆ ADOLFO    ┆ 16332950- ┆ ADOLFO    ┆ … ┆ null      ┆ null      ┆ null      ┆ null     │\n",
       "│           ┆ CHAPARRO  ┆ 6         ┆ CHAPARRO  ┆   ┆           ┆           ┆           ┆          │\n",
       "│ 736       ┆ TRANS.    ┆ 13.228.65 ┆ GUILLERMO ┆ … ┆ null      ┆ null      ┆ null      ┆ null     │\n",
       "│           ┆ ARACENA   ┆ 2-3       ┆ MUÑOZ     ┆   ┆           ┆           ┆           ┆          │\n",
       "│ 738       ┆ COMERCIAL ┆ 96918290  ┆ JUAN      ┆ … ┆ null      ┆ null      ┆ null      ┆ null     │\n",
       "│           ┆ DEL CAMPO ┆           ┆ VILCHES   ┆   ┆           ┆           ┆           ┆          │\n",
       "│ 905       ┆ GEnesis   ┆ null      ┆ LUIS      ┆ … ┆ null      ┆ null      ┆ null      ┆ null     │\n",
       "│           ┆ INGENIERI ┆           ┆ LOBOS     ┆   ┆           ┆           ┆           ┆          │\n",
       "│           ┆ A         ┆           ┆           ┆   ┆           ┆           ┆           ┆          │\n",
       "│ …         ┆ …         ┆ …         ┆ …         ┆ … ┆ …         ┆ …         ┆ …         ┆ …        │\n",
       "│ 2639      ┆ null      ┆ null      ┆ null      ┆ … ┆ null      ┆ null      ┆ null      ┆ null     │\n",
       "│ 2640      ┆ null      ┆ null      ┆ null      ┆ … ┆ null      ┆ null      ┆ null      ┆ null     │\n",
       "│ 2641      ┆ null      ┆ null      ┆ null      ┆ … ┆ null      ┆ null      ┆ null      ┆ null     │\n",
       "│ 2642      ┆ null      ┆ null      ┆ null      ┆ … ┆ null      ┆ null      ┆ null      ┆ null     │\n",
       "│ null      ┆ CORTE     ┆ null      ┆ null      ┆ … ┆ null      ┆ null      ┆ null      ┆ null     │\n",
       "│           ┆ MAYO      ┆           ┆           ┆   ┆           ┆           ┆           ┆          │\n",
       "└───────────┴───────────┴───────────┴───────────┴───┴───────────┴───────────┴───────────┴──────────┘"
      ]
     },
     "execution_count": 5,
     "metadata": {},
     "output_type": "execute_result"
    }
   ],
   "source": [
    "df"
   ]
  },
  {
   "cell_type": "code",
   "execution_count": 6,
   "id": "dde41d56",
   "metadata": {},
   "outputs": [],
   "source": [
    "import polars as pl\n",
    "from typing import List, Dict\n",
    "\n",
    "# Define la ruta de tu archivo Excel\n",
    "ruta_archivo = r\"C:\\Users\\sleal\\OneDrive\\Escritorio\\Escritorio\\MATERIAL UDEC\\SEMESTRE X\\TGO\\BBDD_HonuMatua.xlsx\"\n",
    "\n",
    "def verificar_columnas_hojas(\n",
    "    ruta_archivo: str, \n",
    "    nombres_hojas: List[str]\n",
    ") -> Dict[str, List[str]]:\n",
    "    \"\"\"\n",
    "    Lee dos o más hojas de un Excel y compara sus nombres de columna.\n",
    "    \n",
    "    Retorna un diccionario donde la clave es el nombre de la hoja y el valor\n",
    "    es una lista con los nombres de sus columnas.\n",
    "    \"\"\"\n",
    "    columnas_por_hoja = {}\n",
    "    \n",
    "    # 1. Leer cada hoja en un DataFrame y guardar sus columnas\n",
    "    for nombre in nombres_hojas:\n",
    "        # Usamos read_excel para cargar solo la hoja de interés\n",
    "        df = pl.read_excel(\n",
    "            source=ruta_archivo,\n",
    "            sheet_name=nombre\n",
    "        )\n",
    "        # El atributo .columns retorna una lista de los nombres de columna\n",
    "        columnas_por_hoja[nombre] = df.columns\n",
    "    \n",
    "    # 2. Comparación Lógica\n",
    "    \n",
    "    # Tomamos la primera hoja como referencia\n",
    "    hoja_referencia = nombres_hojas[0]\n",
    "    columnas_referencia = set(columnas_por_hoja[hoja_referencia])\n",
    "    \n",
    "    print(f\"--- Columnas de la hoja de referencia ('{hoja_referencia}') ---\")\n",
    "    print(columnas_referencia)\n",
    "    print(\"----------------------------------------------------------\")\n",
    "\n",
    "    todas_iguales = True\n",
    "    \n",
    "    # Comparamos el resto de las hojas con la referencia\n",
    "    for nombre in nombres_hojas[1:]:\n",
    "        columnas_actuales = set(columnas_por_hoja[nombre])\n",
    "        \n",
    "        if columnas_referencia == columnas_actuales:\n",
    "            print(f\" La hoja '{nombre}' tiene las MISMAS columnas que '{hoja_referencia}'.\")\n",
    "        else:\n",
    "            todas_iguales = False\n",
    "            # Encuentra las diferencias\n",
    "            faltan_en_actual = columnas_referencia.difference(columnas_actuales)\n",
    "            sobran_en_actual = columnas_actuales.difference(columnas_referencia)\n",
    "            \n",
    "            print(f\" La hoja '{nombre}' tiene columnas DIFERENTES a '{hoja_referencia}'.\")\n",
    "            if faltan_en_actual:\n",
    "                print(f\"   -> Faltan: {faltan_en_actual}\")\n",
    "            if sobran_en_actual:\n",
    "                print(f\"   -> Sobran: {sobran_en_actual}\")\n",
    "\n",
    "    if todas_iguales:\n",
    "        print(\"\\n Todas las hojas comparadas tienen conjuntos de columnas idénticos.\")\n",
    "    else:\n",
    "        print(\"\\n Se encontraron diferencias en los nombres de las columnas.\")\n",
    "        \n",
    "    return columnas_por_hoja"
   ]
  },
  {
   "cell_type": "code",
   "execution_count": 7,
   "id": "b4372be7",
   "metadata": {},
   "outputs": [
    {
     "name": "stderr",
     "output_type": "stream",
     "text": [
      "Could not determine dtype for column 29, falling back to string\n"
     ]
    },
    {
     "name": "stdout",
     "output_type": "stream",
     "text": [
      "--- Columnas de la hoja de referencia ('ENERO 23') ---\n",
      "{'Estado ', '__UNNAMED__30', '__UNNAMED__31', 'CONDUCTOR', '__UNNAMED__29', 'Valor final', 'HORA_1', 'FILTO', 'GUIA', 'PATENTE_1', 'ESTADO', 'Valor ', 'Transportista', 'N° Sellos', 'Rut_1', 'UBICACIÓN', 'Rut ', 'Gate Out ', 'TELEFONO', 'Rut', 'N° INGRESO', 'Observacion ', 'No CONTENEDO', 'PATENTE', 'CLIENTE', 'FECHA', 'N° CLIENTE', 'Tipo carga', 'FECHA INGRESO', 'HORA', 'TELEFONO_1', 'CORTINA'}\n",
      "----------------------------------------------------------\n",
      " La hoja 'FEBRERO 23 ' tiene columnas DIFERENTES a 'ENERO 23'.\n",
      "   -> Faltan: {'Estado ', '__UNNAMED__31', '__UNNAMED__30', 'Rut ', '__UNNAMED__29', 'FECHA'}\n",
      "   -> Sobran: {'ESTADO_1', 'RUT', 'FECHA RETIRO '}\n",
      " La hoja 'MARZO 23 ' tiene columnas DIFERENTES a 'ENERO 23'.\n",
      "   -> Faltan: {'Estado ', '__UNNAMED__31', '__UNNAMED__30', 'Rut ', '__UNNAMED__29', 'FECHA'}\n",
      "   -> Sobran: {'ESTADO_1', 'RUT', 'FECHA RETIRO '}\n",
      " La hoja 'ABRIL 23 ' tiene columnas DIFERENTES a 'ENERO 23'.\n",
      "   -> Faltan: {'Estado ', '__UNNAMED__31', '__UNNAMED__30', 'Rut ', 'FECHA'}\n",
      "   -> Sobran: {'ESTADO_1', 'RUT', 'FECHA RETIRO '}\n",
      " La hoja 'MAYO 23' tiene columnas DIFERENTES a 'ENERO 23'.\n",
      "   -> Faltan: {'Estado ', '__UNNAMED__31', '__UNNAMED__30', 'No CONTENEDO', 'Rut ', '__UNNAMED__29', 'FECHA'}\n",
      "   -> Sobran: {'RUT', 'ESTADO_1', 'FECHA RETIRO ', 'No CONTENEDOR'}\n",
      " La hoja 'JUNIO 23' tiene columnas DIFERENTES a 'ENERO 23'.\n",
      "   -> Faltan: {'Estado ', '__UNNAMED__31', '__UNNAMED__30', 'No CONTENEDO', 'Rut ', '__UNNAMED__29', 'FECHA'}\n",
      "   -> Sobran: {'RUT', 'ESTADO_1', 'FECHA RETIRO ', 'No CONTENEDOR'}\n",
      "\n",
      " Se encontraron diferencias en los nombres de las columnas.\n"
     ]
    }
   ],
   "source": [
    "# EJEMPLO: Reemplaza con los nombres reales de tus hojas\n",
    "hojas_a_comparar = ['ENERO 23', 'FEBRERO 23 ', 'MARZO 23 ', 'ABRIL 23 ', 'MAYO 23', 'JUNIO 23'] \n",
    "\n",
    "# Llamar a la función\n",
    "nombres_y_columnas = verificar_columnas_hojas(ruta_archivo, hojas_a_comparar)"
   ]
  }
 ],
 "metadata": {
  "kernelspec": {
   "display_name": "Python 3",
   "language": "python",
   "name": "python3"
  },
  "language_info": {
   "codemirror_mode": {
    "name": "ipython",
    "version": 3
   },
   "file_extension": ".py",
   "mimetype": "text/x-python",
   "name": "python",
   "nbconvert_exporter": "python",
   "pygments_lexer": "ipython3",
   "version": "3.13.5"
  }
 },
 "nbformat": 4,
 "nbformat_minor": 5
}
